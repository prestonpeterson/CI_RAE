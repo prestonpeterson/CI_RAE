{
 "cells": [
  {
   "cell_type": "markdown",
   "metadata": {
    "slideshow": {
     "slide_type": "slide"
    }
   },
   "source": [
    "<h1 align=\"center\">Channel Islands Reddit Analytics Engine Dashboard</h1> \n",
    "<img src=\"images/reddit.png\" width=\"30%\">"
   ]
  },
  {
   "cell_type": "code",
   "execution_count": 21,
   "metadata": {
    "collapsed": false,
    "slideshow": {
     "slide_type": "slide"
    }
   },
   "outputs": [],
   "source": [
    "%run jupyter_rae.py"
   ]
  },
  {
   "cell_type": "code",
   "execution_count": null,
   "metadata": {
    "collapsed": true
   },
   "outputs": [],
   "source": []
  }
 ],
 "metadata": {
  "anaconda-cloud": {},
  "kernelspec": {
   "display_name": "Python [default]",
   "language": "python",
   "name": "python3"
  },
  "language_info": {
   "codemirror_mode": {
    "name": "ipython",
    "version": 3
   },
   "file_extension": ".py",
   "mimetype": "text/x-python",
   "name": "python",
   "nbconvert_exporter": "python",
   "pygments_lexer": "ipython3",
   "version": "3.5.2"
  },
  "widgets": {
   "state": {
    "002f77104b254bbe9a90b6d8edb3207c": {
     "views": [
      {
       "cell_index": 1
      }
     ]
    },
    "00431ede7ec849c989ec09d50f152701": {
     "views": [
      {
       "cell_index": 1
      }
     ]
    },
    "03edf3642f974631b09e6beede3b26aa": {
     "views": [
      {
       "cell_index": 1
      }
     ]
    },
    "0872db18428a405e8818bc51143e7965": {
     "views": [
      {
       "cell_index": 1
      }
     ]
    },
    "0ba0e60957004cc5826db4bfe22c3622": {
     "views": [
      {
       "cell_index": 1
      },
      {
       "cell_index": 1
      }
     ]
    },
    "0e347ca8e5cc4fe2b3e1dbc1e35e304b": {
     "views": [
      {
       "cell_index": 1
      }
     ]
    },
    "15029d8913444f47a38fdce0a5140c7e": {
     "views": [
      {
       "cell_index": 1
      }
     ]
    },
    "18a6bf9842004b15add7ec7f39095588": {
     "views": [
      {
       "cell_index": 1
      }
     ]
    },
    "198254e8245348be8584e17c67b8e39d": {
     "views": [
      {
       "cell_index": 1
      }
     ]
    },
    "1a3dfdc1a6894ff7881f4110602ec849": {
     "views": [
      {
       "cell_index": 1
      }
     ]
    },
    "1adf5d4c0a174449a13c9cfe30fb76d1": {
     "views": [
      {
       "cell_index": 1
      }
     ]
    },
    "1c1bc828a4384ceabb89e0f8fdeda101": {
     "views": [
      {
       "cell_index": 1
      }
     ]
    },
    "1e0fcdbfcb4c4845bc8270827e11b571": {
     "views": [
      {
       "cell_index": 1
      }
     ]
    },
    "1ebc71c8b4e140df87fb0276cfcf4ca8": {
     "views": [
      {
       "cell_index": 1
      }
     ]
    },
    "233d25974765461e8c0ccd180db65b15": {
     "views": [
      {
       "cell_index": 1
      }
     ]
    },
    "2c2e9e3d9127403f84139b5347570c24": {
     "views": [
      {
       "cell_index": 1
      }
     ]
    },
    "3417be42dff649c9bff4f7f2ceed07c9": {
     "views": [
      {
       "cell_index": 1
      }
     ]
    },
    "3c3de27bedf7492a983d57265794cc36": {
     "views": [
      {
       "cell_index": 1
      }
     ]
    },
    "3d449d9cbf764dc6809256ad1cba6652": {
     "views": [
      {
       "cell_index": 1
      }
     ]
    },
    "3e3b7d6c0d5549aab4d0d7295bd5b0d9": {
     "views": [
      {
       "cell_index": 1
      }
     ]
    },
    "3f975b528ad142de84db380c2d458a32": {
     "views": [
      {
       "cell_index": 1
      }
     ]
    },
    "41293e7f8fca45c4a4bb2b50ab0f8e9e": {
     "views": [
      {
       "cell_index": 1
      }
     ]
    },
    "43fab06b8faa4b0fac709be217d82a2a": {
     "views": [
      {
       "cell_index": 1
      }
     ]
    },
    "44ad545a0e944aa8ba654f0b97e428ae": {
     "views": [
      {
       "cell_index": 1
      },
      {
       "cell_index": 1
      }
     ]
    },
    "467267eed4054831b22db3d3649050d9": {
     "views": [
      {
       "cell_index": 1
      },
      {
       "cell_index": 1
      }
     ]
    },
    "49c2a1f5dd4f4b49806eda5b123dbd50": {
     "views": [
      {
       "cell_index": 1
      }
     ]
    },
    "4b9b321c77c64144a2d8c7bd9e50f765": {
     "views": [
      {
       "cell_index": 1
      }
     ]
    },
    "4d8ac79ce12c42e9a0d13523c9e2b639": {
     "views": [
      {
       "cell_index": 1
      }
     ]
    },
    "5807a0ef95a541e7a17a9e8e9331cc55": {
     "views": [
      {
       "cell_index": 1
      }
     ]
    },
    "5ff087b2958c420487de055cd46365d9": {
     "views": [
      {
       "cell_index": 1
      }
     ]
    },
    "64823b54eb2b42f4872bc249640b77ac": {
     "views": [
      {
       "cell_index": 1
      }
     ]
    },
    "6c809cc1d82a461db8b0af2d7b96ebd0": {
     "views": [
      {
       "cell_index": 1
      },
      {
       "cell_index": 1
      }
     ]
    },
    "6d48a0bb66f44aeaaf4217de3f09bff5": {
     "views": [
      {
       "cell_index": 1
      }
     ]
    },
    "7462f397bf5d42bea3febc54aafd8bd6": {
     "views": [
      {
       "cell_index": 1
      }
     ]
    },
    "7553b49c55c44054aa5ad7b96c8a88be": {
     "views": [
      {
       "cell_index": 1
      }
     ]
    },
    "7841930b5c3f4a51be5baac41054faba": {
     "views": [
      {
       "cell_index": 1
      }
     ]
    },
    "7b3c959dd523483b99923ed10b378703": {
     "views": [
      {
       "cell_index": 1
      }
     ]
    },
    "7e28adbe01504355a641e8f7a02d0f44": {
     "views": [
      {
       "cell_index": 1
      }
     ]
    },
    "8a143280898d421ba7557f6fb40083f4": {
     "views": [
      {
       "cell_index": 1
      }
     ]
    },
    "8aefb45ffb714056bf1550ea64c73294": {
     "views": [
      {
       "cell_index": 1
      }
     ]
    },
    "8ee7aeacbdcf40bda4295624564e9abc": {
     "views": [
      {
       "cell_index": 1
      }
     ]
    },
    "99244f1f55a747c682bd1dd1b0473875": {
     "views": [
      {
       "cell_index": 1
      }
     ]
    },
    "99ec60fb51b54b96834defa98a609e4e": {
     "views": [
      {
       "cell_index": 1
      }
     ]
    },
    "9cdeb55463634674a87269287721cc16": {
     "views": [
      {
       "cell_index": 1
      }
     ]
    },
    "a20e242a113a4ce4a769f86fd1066848": {
     "views": [
      {
       "cell_index": 1
      }
     ]
    },
    "a4eaf2944122469fa6f2d99db94e7dfc": {
     "views": [
      {
       "cell_index": 1
      }
     ]
    },
    "adb000779d664ccabebbe64ad52c3e11": {
     "views": [
      {
       "cell_index": 1
      }
     ]
    },
    "b4da9e9d057843ac98c57226f1ede45b": {
     "views": [
      {
       "cell_index": 1
      }
     ]
    },
    "b75ac54f410a44c9bc3edfe76d262dbd": {
     "views": [
      {
       "cell_index": 1
      }
     ]
    },
    "c089f6f627504dcdbf1bed18dd5c3f07": {
     "views": [
      {
       "cell_index": 1
      }
     ]
    },
    "c0f19184d47e493f931692e02101041c": {
     "views": [
      {
       "cell_index": 1
      }
     ]
    },
    "c7448d11830b4ba5ae444b1b15c21411": {
     "views": [
      {
       "cell_index": 1
      }
     ]
    },
    "cc627bf9e29d4e1db59b9c1f7060d61c": {
     "views": [
      {
       "cell_index": 1
      }
     ]
    },
    "cd29620a677d4f44a9ac00c5c3ba9d0d": {
     "views": [
      {
       "cell_index": 1
      }
     ]
    },
    "d125c7dac50e4701af3b117e5b16de8c": {
     "views": [
      {
       "cell_index": 1
      }
     ]
    },
    "d2a85ba167db4619a7f6b98bb529c51c": {
     "views": [
      {
       "cell_index": 1
      }
     ]
    },
    "d3633a6678d541ec8bf0ed1b1d265399": {
     "views": [
      {
       "cell_index": 1
      },
      {
       "cell_index": 1
      }
     ]
    },
    "d5aa523cc6d0448697ec8ba9feefd7ec": {
     "views": [
      {
       "cell_index": 1
      }
     ]
    },
    "dbc2e9064b534e49a2f6eb1e9904faa6": {
     "views": [
      {
       "cell_index": 1
      }
     ]
    },
    "de75d7dffc524382913f356d4033ae1c": {
     "views": [
      {
       "cell_index": 1
      }
     ]
    },
    "df94e1e6bce7407c8eb362fd9dbf366d": {
     "views": [
      {
       "cell_index": 1
      }
     ]
    },
    "f45dd9faa6bc44d2b12ce218f30e5d27": {
     "views": [
      {
       "cell_index": 1
      }
     ]
    },
    "fbc10136865144db9fb3fdd254947bc4": {
     "views": [
      {
       "cell_index": 1
      }
     ]
    },
    "fd4ca9a4156e4ebca5ee3b9c9bcc6f09": {
     "views": [
      {
       "cell_index": 1
      }
     ]
    }
   },
   "version": "1.2.0"
  }
 },
 "nbformat": 4,
 "nbformat_minor": 1
}
